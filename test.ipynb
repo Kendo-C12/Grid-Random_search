{
 "cells": [
  {
   "cell_type": "code",
   "execution_count": 1,
   "id": "0dcadfca",
   "metadata": {},
   "outputs": [],
   "source": [
    "from research import researcher"
   ]
  },
  {
   "cell_type": "code",
   "execution_count": 2,
   "id": "69d74df9",
   "metadata": {},
   "outputs": [],
   "source": [
    "from sklearn.datasets import load_iris\n",
    "from sklearn.model_selection import train_test_split\n",
    "import numpy as np\n",
    "from torch import nn\n",
    "import torch"
   ]
  },
  {
   "cell_type": "code",
   "execution_count": 3,
   "id": "e8cca59d",
   "metadata": {},
   "outputs": [],
   "source": [
    "data = load_iris()"
   ]
  },
  {
   "cell_type": "code",
   "execution_count": 4,
   "id": "ceb2458d",
   "metadata": {},
   "outputs": [
    {
     "data": {
      "text/plain": [
       "dict_keys(['data', 'target', 'frame', 'target_names', 'DESCR', 'feature_names', 'filename', 'data_module'])"
      ]
     },
     "execution_count": 4,
     "metadata": {},
     "output_type": "execute_result"
    }
   ],
   "source": [
    "data.keys()"
   ]
  },
  {
   "cell_type": "code",
   "execution_count": 5,
   "id": "aaf690ac",
   "metadata": {},
   "outputs": [
    {
     "data": {
      "text/plain": [
       "(['sepal length (cm)',\n",
       "  'sepal width (cm)',\n",
       "  'petal length (cm)',\n",
       "  'petal width (cm)'],\n",
       " array(['setosa', 'versicolor', 'virginica'], dtype='<U10'))"
      ]
     },
     "execution_count": 5,
     "metadata": {},
     "output_type": "execute_result"
    }
   ],
   "source": [
    "data['feature_names'] , data['target_names']"
   ]
  },
  {
   "cell_type": "code",
   "execution_count": 6,
   "id": "6ca05719",
   "metadata": {},
   "outputs": [],
   "source": [
    "X_train, X_test, y_train, y_test = train_test_split(data.data, data.target, test_size=0.2, random_state=42)\n",
    "\n",
    "X_train = np.array(X_train)\n",
    "X_test = np.array(X_test)\n",
    "y_train = np.array(y_train)\n",
    "y_test = np.array(y_test)\n",
    "\n",
    "data = {\n",
    "    \"X_train\": X_train,\n",
    "    \"X_test\": X_test,\n",
    "    \"y_train\": y_train,\n",
    "    \"y_test\": y_test\n",
    "}"
   ]
  },
  {
   "cell_type": "code",
   "execution_count": 7,
   "id": "651181be",
   "metadata": {},
   "outputs": [],
   "source": [
    "import torch\n",
    "import torch.nn as nn\n",
    "\n",
    "class regression_model(nn.Module):\n",
    "    def __init__(self, input_size, output_size):\n",
    "        \"\"\"\n",
    "        input_size: number of input features\n",
    "        output_size: number of classes\n",
    "        hidden_size: number of neurons in hidden layers\n",
    "        num_hidden_layers: number of hidden layers\n",
    "        dropout: dropout probability\n",
    "        \"\"\"\n",
    "        super().__init__()\n",
    "\n",
    "        layers = []  # flatten input\n",
    "\n",
    "        # 1 layer\n",
    "        layers.append(nn.Linear(input_size, output_size))\n",
    "        layers.append(nn.Softmax(dim=1))\n",
    "\n",
    "        # Combine all layers into a sequential module\n",
    "        self.model = nn.Sequential(*layers)\n",
    "\n",
    "    def forward(self, x):\n",
    "        return self.model(x)\n",
    "\n"
   ]
  },
  {
   "cell_type": "code",
   "execution_count": 8,
   "id": "34e750a1",
   "metadata": {},
   "outputs": [],
   "source": [
    "model = regression_model(input_size=4, output_size=3)"
   ]
  },
  {
   "cell_type": "code",
   "execution_count": 9,
   "id": "2e146b6e",
   "metadata": {},
   "outputs": [],
   "source": [
    "config = {\n",
    "    \"hyperparameter\": {\n",
    "        \"range\": {\n",
    "            \"batch_size\": [16, 32, 16],\n",
    "        },\n",
    "        \"choice\": {\n",
    "            \"learning_rate\": [0.001, 0.01]\n",
    "        },\n",
    "        \"fixed\": {\n",
    "            \"epochs\": 50,\n",
    "            \"loss_fn\": nn.CrossEntropyLoss(),\n",
    "            \"optimizer\": torch.optim.Adam\n",
    "        }\n",
    "    }\n",
    "}"
   ]
  },
  {
   "cell_type": "code",
   "execution_count": 10,
   "id": "0a8581f7",
   "metadata": {},
   "outputs": [],
   "source": [
    "def train_loop(self):\n",
    "\n",
    "    model = self.model\n",
    "    loss_fn = self.loss_fn\n",
    "    lr = self.learning_rate\n",
    "    optimizer = self.optimizer(model.parameters(), lr=lr)\n",
    "    epochs = self.epochs\n",
    "    batch_size = self.batch_size\n",
    "    accuracy_fn = self.accuracy_fn\n",
    "    info = None\n",
    "\n",
    "    data = self.data\n",
    "\n",
    "    X_train = torch.tensor(data.X_train, dtype=torch.float32)\n",
    "    y_train = torch.tensor(data.y_train, dtype=torch.float32)\n",
    "    X_test = torch.tensor(data.X_test, dtype=torch.float32)\n",
    "    y_test = torch.tensor(data.y_test, dtype=torch.float32)\n",
    "\n",
    "    total_loss_train = 0\n",
    "    total_loss_test = 0\n",
    "    total_acc_train = 0\n",
    "    total_acc_test = 0\n",
    "\n",
    "    train_dataset = torch.utils.data.TensorDataset(X_train, y_train)\n",
    "    train_loader = torch.utils.data.DataLoader(train_dataset, batch_size=batch_size, shuffle=True)\n",
    "\n",
    "    test_dataset = torch.utils.data.TensorDataset(X_test, y_test)\n",
    "    test_loader = torch.utils.data.DataLoader(test_dataset, batch_size=batch_size, shuffle=False)\n",
    "    for epoch in range(epochs):\n",
    "        model.train()\n",
    "\n",
    "        total_loss_train = 0\n",
    "        total_loss_test = 0\n",
    "        total_acc_train = 0\n",
    "        total_acc_test = 0\n",
    "        \n",
    "        for bt , (X_train, y_train) in enumerate(train_loader):\n",
    "\n",
    "            y_train_logit = model(X_train)\n",
    "            y_train_pred = torch.round(y_train_logit)\n",
    "\n",
    "            loss = loss_fn(y_train_logit, y_train.long())\n",
    "            total_loss_train += loss.item() * X_train.size(0)\n",
    "            total_acc_train += accuracy_fn(y_train, y_train_pred) * X_train.size(0)\n",
    "\n",
    "            optimizer.zero_grad()\n",
    "            \n",
    "            loss.backward()\n",
    "            \n",
    "            optimizer.step()\n",
    "\n",
    "        model.eval()\n",
    "\n",
    "        with torch.inference_mode():\n",
    "            model.eval()\n",
    "            for bt , (X_test, y_test) in enumerate(test_loader):\n",
    "\n",
    "                y_test_logit = model(X_test)\n",
    "                y_test_pred = torch.round(y_test_logit)\n",
    "\n",
    "                loss_test = loss_fn(y_test_logit, y_test.long())\n",
    "                total_loss_test += loss_test.item() * X_test.size(0)\n",
    "                total_acc_test += accuracy_fn(y_test, y_test_pred) * X_test.size(0)\n",
    "\n",
    "        avg_loss_train = total_loss_train / len(train_loader.dataset)\n",
    "        avg_loss_test = total_loss_test / len(test_loader.dataset)\n",
    "        avg_acc_train = total_acc_train / len(train_loader.dataset)\n",
    "        avg_acc_test = total_acc_test / len(test_loader.dataset)\n",
    "\n",
    "        if epoch % (epochs/10) == 0:\n",
    "            print(f\"Epoch {epoch+1} | Train Loss: {avg_loss_train:.4f} | Test Loss: {avg_loss_test:.4f} | Train Acc: {avg_acc_train:.2f} | Test Acc: {avg_acc_test:.2f}\")\n",
    "\n",
    "        info = {\n",
    "            \"batch_size\": batch_size,\n",
    "            \"learning_rate\": lr\n",
    "        }\n",
    "        self.bestModel(avg_loss_train, avg_loss_test, model, epoch, info)\n",
    "\n",
    "    return {\n",
    "        \"avg_loss_train\": avg_loss_train,\n",
    "        \"avg_loss_test\": avg_loss_test,\n",
    "        \"model\": model,\n",
    "        \"epoch\": epoch\n",
    "    }"
   ]
  },
  {
   "cell_type": "code",
   "execution_count": 11,
   "id": "f5392cb3",
   "metadata": {},
   "outputs": [
    {
     "name": "stdout",
     "output_type": "stream",
     "text": [
      "Hyperparameter Researcher initialized.\n",
      "  batch_size: 16\n",
      "  learning_rate: 0.001\n",
      "  epochs: 50\n",
      "  loss_fn: CrossEntropyLoss()\n",
      "  optimizer: <class 'torch.optim.adam.Adam'>\n"
     ]
    }
   ],
   "source": [
    "argument = {\n",
    "    \"data\": data,\n",
    "    \"model\": model,\n",
    "    \"train_loop\": train_loop,\n",
    "    \"config\": config,\n",
    "    \"grid_search\": True,\n",
    "    \"research_type\": 1\n",
    "}\n",
    "model_researcher = researcher(**argument)"
   ]
  },
  {
   "cell_type": "code",
   "execution_count": 12,
   "id": "c02e6176",
   "metadata": {},
   "outputs": [
    {
     "name": "stdout",
     "output_type": "stream",
     "text": [
      "Starting hyperparameter research... with train type: <bound method researcher.startGridSearchHyperparameter of <research.researcher object at 0x000001BECDCD4E50>>\n",
      "Training with hyperparameters: <research.obj object at 0x000001BECDCD6D90>\n",
      "Prepared training data and hyperparameters for training loop.\n",
      "  batch_size: 16\n",
      "  learning_rate: 0.001\n",
      "  epochs: 50\n",
      "  loss_fn: CrossEntropyLoss()\n",
      "  optimizer: <class 'torch.optim.adam.Adam'>\n",
      "Epoch 1 | Train Loss: 1.1469 | Test Loss: 1.1747 | Train Acc: 34.17 | Test Acc: 30.00\n",
      "Epoch 6 | Train Loss: 1.1033 | Test Loss: 1.1140 | Train Acc: 34.17 | Test Acc: 30.00\n",
      "Epoch 11 | Train Loss: 1.0594 | Test Loss: 1.0559 | Train Acc: 33.33 | Test Acc: 30.00\n",
      "Epoch 16 | Train Loss: 1.0335 | Test Loss: 1.0194 | Train Acc: 62.50 | Test Acc: 70.00\n",
      "Epoch 21 | Train Loss: 1.0087 | Test Loss: 0.9946 | Train Acc: 65.00 | Test Acc: 70.00\n",
      "Epoch 26 | Train Loss: 0.9848 | Test Loss: 0.9680 | Train Acc: 65.83 | Test Acc: 70.00\n",
      "Epoch 31 | Train Loss: 0.9636 | Test Loss: 0.9451 | Train Acc: 65.83 | Test Acc: 70.00\n",
      "Epoch 36 | Train Loss: 0.9457 | Test Loss: 0.9270 | Train Acc: 65.83 | Test Acc: 70.00\n",
      "Epoch 41 | Train Loss: 0.9299 | Test Loss: 0.9115 | Train Acc: 65.83 | Test Acc: 70.00\n",
      "Epoch 46 | Train Loss: 0.9168 | Test Loss: 0.8978 | Train Acc: 65.83 | Test Acc: 70.00\n",
      "Training with hyperparameters: <research.obj object at 0x000001BECDCD6D90>\n",
      "Prepared training data and hyperparameters for training loop.\n",
      "  batch_size: 16\n",
      "  learning_rate: 0.01\n",
      "  epochs: 50\n",
      "  loss_fn: CrossEntropyLoss()\n",
      "  optimizer: <class 'torch.optim.adam.Adam'>\n",
      "  bestModel: <bound method researcher.bestModel of <research.researcher object at 0x000001BECDCD4E50>>\n",
      "  accuracy_fn: <bound method researcher.accuracy_fn of <research.researcher object at 0x000001BECDCD4E50>>\n",
      "Epoch 1 | Train Loss: 1.1158 | Test Loss: 1.0584 | Train Acc: 32.50 | Test Acc: 33.33\n",
      "Epoch 6 | Train Loss: 0.9092 | Test Loss: 0.8739 | Train Acc: 65.83 | Test Acc: 70.00\n",
      "Epoch 11 | Train Loss: 0.8380 | Test Loss: 0.8306 | Train Acc: 66.67 | Test Acc: 73.33\n",
      "Epoch 16 | Train Loss: 0.8096 | Test Loss: 0.7923 | Train Acc: 65.83 | Test Acc: 70.00\n",
      "Epoch 21 | Train Loss: 0.7896 | Test Loss: 0.7739 | Train Acc: 69.17 | Test Acc: 80.00\n",
      "Epoch 26 | Train Loss: 0.7724 | Test Loss: 0.7633 | Train Acc: 95.00 | Test Acc: 100.00\n",
      "Epoch 31 | Train Loss: 0.7560 | Test Loss: 0.7437 | Train Acc: 93.33 | Test Acc: 93.33\n",
      "Epoch 36 | Train Loss: 0.7433 | Test Loss: 0.7308 | Train Acc: 95.83 | Test Acc: 93.33\n",
      "Epoch 41 | Train Loss: 0.7316 | Test Loss: 0.7204 | Train Acc: 95.83 | Test Acc: 100.00\n",
      "Epoch 46 | Train Loss: 0.7218 | Test Loss: 0.7092 | Train Acc: 95.00 | Test Acc: 100.00\n",
      "Training with hyperparameters: <research.obj object at 0x000001BECDCD6D90>\n",
      "Prepared training data and hyperparameters for training loop.\n",
      "  batch_size: 32\n",
      "  learning_rate: 0.001\n",
      "  epochs: 50\n",
      "  loss_fn: CrossEntropyLoss()\n",
      "  optimizer: <class 'torch.optim.adam.Adam'>\n",
      "  bestModel: <bound method researcher.bestModel of <research.researcher object at 0x000001BECDCD4E50>>\n",
      "  accuracy_fn: <bound method researcher.accuracy_fn of <research.researcher object at 0x000001BECDCD4E50>>\n",
      "Epoch 1 | Train Loss: 1.1492 | Test Loss: 1.1794 | Train Acc: 34.17 | Test Acc: 30.00\n",
      "Epoch 6 | Train Loss: 1.1269 | Test Loss: 1.1494 | Train Acc: 34.17 | Test Acc: 30.00\n",
      "Epoch 11 | Train Loss: 1.0998 | Test Loss: 1.1136 | Train Acc: 34.17 | Test Acc: 30.00\n",
      "Epoch 16 | Train Loss: 1.0736 | Test Loss: 1.0770 | Train Acc: 34.17 | Test Acc: 30.00\n",
      "Epoch 21 | Train Loss: 1.0527 | Test Loss: 1.0483 | Train Acc: 39.17 | Test Acc: 40.00\n",
      "Epoch 26 | Train Loss: 1.0391 | Test Loss: 1.0284 | Train Acc: 60.00 | Test Acc: 70.00\n",
      "Epoch 31 | Train Loss: 1.0256 | Test Loss: 1.0128 | Train Acc: 65.00 | Test Acc: 70.00\n",
      "Epoch 36 | Train Loss: 1.0120 | Test Loss: 0.9972 | Train Acc: 65.83 | Test Acc: 70.00\n",
      "Epoch 41 | Train Loss: 0.9976 | Test Loss: 0.9821 | Train Acc: 65.83 | Test Acc: 70.00\n",
      "Epoch 46 | Train Loss: 0.9839 | Test Loss: 0.9675 | Train Acc: 65.83 | Test Acc: 70.00\n",
      "Training with hyperparameters: <research.obj object at 0x000001BECDCD6D90>\n",
      "Prepared training data and hyperparameters for training loop.\n",
      "  batch_size: 32\n",
      "  learning_rate: 0.01\n",
      "  epochs: 50\n",
      "  loss_fn: CrossEntropyLoss()\n",
      "  optimizer: <class 'torch.optim.adam.Adam'>\n",
      "  bestModel: <bound method researcher.bestModel of <research.researcher object at 0x000001BECDCD4E50>>\n",
      "  accuracy_fn: <bound method researcher.accuracy_fn of <research.researcher object at 0x000001BECDCD4E50>>\n",
      "Epoch 1 | Train Loss: 1.1391 | Test Loss: 1.1271 | Train Acc: 34.17 | Test Acc: 30.00\n",
      "Epoch 6 | Train Loss: 0.9965 | Test Loss: 0.9593 | Train Acc: 65.83 | Test Acc: 70.00\n",
      "Epoch 11 | Train Loss: 0.9050 | Test Loss: 0.8764 | Train Acc: 65.83 | Test Acc: 70.00\n",
      "Epoch 16 | Train Loss: 0.8570 | Test Loss: 0.8393 | Train Acc: 65.83 | Test Acc: 70.00\n",
      "Epoch 21 | Train Loss: 0.8303 | Test Loss: 0.8148 | Train Acc: 65.83 | Test Acc: 70.00\n",
      "Epoch 26 | Train Loss: 0.8109 | Test Loss: 0.7992 | Train Acc: 68.33 | Test Acc: 73.33\n",
      "Epoch 31 | Train Loss: 0.7960 | Test Loss: 0.7832 | Train Acc: 75.83 | Test Acc: 80.00\n",
      "Epoch 36 | Train Loss: 0.7831 | Test Loss: 0.7717 | Train Acc: 84.17 | Test Acc: 86.67\n",
      "Epoch 41 | Train Loss: 0.7728 | Test Loss: 0.7593 | Train Acc: 85.83 | Test Acc: 86.67\n",
      "Epoch 46 | Train Loss: 0.7628 | Test Loss: 0.7503 | Train Acc: 92.50 | Test Acc: 93.33\n"
     ]
    }
   ],
   "source": [
    "model_researcher.startResearch()"
   ]
  },
  {
   "cell_type": "code",
   "execution_count": 13,
   "id": "4aabd490",
   "metadata": {},
   "outputs": [
    {
     "name": "stdout",
     "output_type": "stream",
     "text": [
      "Best Model Info:\n",
      "Epoch: 49\n",
      "Train Loss: 0.7156519254048666\n",
      "Test Loss: 0.7018033266067505\n",
      "Additional Info: {'batch_size': 16, 'learning_rate': 0.01}\n"
     ]
    }
   ],
   "source": [
    "model_researcher.print_info()"
   ]
  }
 ],
 "metadata": {
  "kernelspec": {
   "display_name": "Python 3",
   "language": "python",
   "name": "python3"
  },
  "language_info": {
   "codemirror_mode": {
    "name": "ipython",
    "version": 3
   },
   "file_extension": ".py",
   "mimetype": "text/x-python",
   "name": "python",
   "nbconvert_exporter": "python",
   "pygments_lexer": "ipython3",
   "version": "3.11.5"
  }
 },
 "nbformat": 4,
 "nbformat_minor": 5
}
