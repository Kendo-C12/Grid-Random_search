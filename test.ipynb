{
 "cells": [
  {
   "cell_type": "code",
   "execution_count": 14,
   "id": "0dcadfca",
   "metadata": {},
   "outputs": [],
   "source": [
    "from research import researcher"
   ]
  },
  {
   "cell_type": "code",
   "execution_count": null,
   "id": "69d74df9",
   "metadata": {},
   "outputs": [],
   "source": [
    "from sklearn.datasets import load_iris\n",
    "from sklearn.model_selection import train_test_split\n",
    "import numpy as np\n",
    "from torch import nn\n",
    "import torch"
   ]
  },
  {
   "cell_type": "code",
   "execution_count": 16,
   "id": "e8cca59d",
   "metadata": {},
   "outputs": [],
   "source": [
    "data = load_iris()"
   ]
  },
  {
   "cell_type": "code",
   "execution_count": 17,
   "id": "ceb2458d",
   "metadata": {},
   "outputs": [
    {
     "data": {
      "text/plain": [
       "dict_keys(['data', 'target', 'frame', 'target_names', 'DESCR', 'feature_names', 'filename', 'data_module'])"
      ]
     },
     "execution_count": 17,
     "metadata": {},
     "output_type": "execute_result"
    }
   ],
   "source": [
    "data.keys()"
   ]
  },
  {
   "cell_type": "code",
   "execution_count": 18,
   "id": "aaf690ac",
   "metadata": {},
   "outputs": [
    {
     "data": {
      "text/plain": [
       "(['sepal length (cm)',\n",
       "  'sepal width (cm)',\n",
       "  'petal length (cm)',\n",
       "  'petal width (cm)'],\n",
       " array(['setosa', 'versicolor', 'virginica'], dtype='<U10'))"
      ]
     },
     "execution_count": 18,
     "metadata": {},
     "output_type": "execute_result"
    }
   ],
   "source": [
    "data['feature_names'] , data['target_names']"
   ]
  },
  {
   "cell_type": "code",
   "execution_count": 19,
   "id": "6ca05719",
   "metadata": {},
   "outputs": [],
   "source": [
    "X_train, X_test, y_train, y_test = train_test_split(data.data, data.target, test_size=0.2, random_state=42)\n",
    "\n",
    "X_train = np.array(X_train)\n",
    "X_test = np.array(X_test)\n",
    "y_train = np.array(y_train)\n",
    "y_test = np.array(y_test)\n",
    "\n",
    "data = {\n",
    "    \"X_train\": X_train,\n",
    "    \"X_test\": X_test,\n",
    "    \"y_train\": y_train,\n",
    "    \"y_test\": y_test\n",
    "}"
   ]
  },
  {
   "cell_type": "code",
   "execution_count": 20,
   "id": "651181be",
   "metadata": {},
   "outputs": [],
   "source": [
    "import torch\n",
    "import torch.nn as nn\n",
    "\n",
    "class regression_model(nn.Module):\n",
    "    def __init__(self, input_size, output_size):\n",
    "        \"\"\"\n",
    "        input_size: number of input features\n",
    "        output_size: number of classes\n",
    "        hidden_size: number of neurons in hidden layers\n",
    "        num_hidden_layers: number of hidden layers\n",
    "        dropout: dropout probability\n",
    "        \"\"\"\n",
    "        super().__init__()\n",
    "\n",
    "        layers = []  # flatten input\n",
    "\n",
    "        # 1 layer\n",
    "        layers.append(nn.Linear(input_size, output_size))\n",
    "        layers.append(nn.Softmax(dim=1))\n",
    "\n",
    "        # Combine all layers into a sequential module\n",
    "        self.model = nn.Sequential(*layers)\n",
    "\n",
    "    def forward(self, x):\n",
    "        return self.model(x)\n",
    "\n"
   ]
  },
  {
   "cell_type": "code",
   "execution_count": 21,
   "id": "34e750a1",
   "metadata": {},
   "outputs": [],
   "source": [
    "model = regression_model(input_size=4, output_size=3)"
   ]
  },
  {
   "cell_type": "code",
   "execution_count": null,
   "id": "2e146b6e",
   "metadata": {},
   "outputs": [],
   "source": [
    "config = {\n",
    "    \"hyperparameter\": {\n",
    "        \"range\": {\n",
    "            \"batch_size\": [16, 32, 16],\n",
    "        },\n",
    "        \"choice\": {\n",
    "            \"learning_rate\": [0.001, 0.01]\n",
    "        },\n",
    "        \"fixed\": {\n",
    "            \"epochs\": 50,\n",
    "            \"loss_fn\": nn.CrossEntropyLoss(),\n",
    "            \"optimizer\": torch.optim.Adam\n",
    "        }\n",
    "    }\n",
    "}"
   ]
  },
  {
   "cell_type": "code",
   "execution_count": 23,
   "id": "0a8581f7",
   "metadata": {},
   "outputs": [],
   "source": [
    "def train_loop(self):\n",
    "\n",
    "    model = self.model\n",
    "    loss_fn = self.loss_fn\n",
    "    lr = self.learning_rate\n",
    "    optimizer = self.optimizer(model.parameters(), lr=lr)\n",
    "    epochs = self.epochs\n",
    "    batch_size = self.batch_size\n",
    "    accuracy_fn = self.accuracy_fn\n",
    "    info = None\n",
    "\n",
    "    data = self.data\n",
    "\n",
    "    X_train = torch.tensor(data.X_train, dtype=torch.float32)\n",
    "    y_train = torch.tensor(data.y_train, dtype=torch.float32)\n",
    "    X_test = torch.tensor(data.X_test, dtype=torch.float32)\n",
    "    y_test = torch.tensor(data.y_test, dtype=torch.float32)\n",
    "\n",
    "    total_loss_train = 0\n",
    "    total_loss_test = 0\n",
    "    total_acc_train = 0\n",
    "    total_acc_test = 0\n",
    "\n",
    "    train_dataset = torch.utils.data.TensorDataset(X_train, y_train)\n",
    "    train_loader = torch.utils.data.DataLoader(train_dataset, batch_size=batch_size, shuffle=True)\n",
    "\n",
    "    test_dataset = torch.utils.data.TensorDataset(X_test, y_test)\n",
    "    test_loader = torch.utils.data.DataLoader(test_dataset, batch_size=batch_size, shuffle=False)\n",
    "    for epoch in range(epochs):\n",
    "        model.train()\n",
    "\n",
    "        total_loss_train = 0\n",
    "        total_loss_test = 0\n",
    "        total_acc_train = 0\n",
    "        total_acc_test = 0\n",
    "        \n",
    "        for bt , (X_train, y_train) in enumerate(train_loader):\n",
    "\n",
    "            y_train_logit = model(X_train)\n",
    "            y_train_pred = torch.round(y_train_logit)\n",
    "\n",
    "            loss = loss_fn(y_train_logit, y_train.long())\n",
    "            total_loss_train += loss.item() * X_train.size(0)\n",
    "            total_acc_train += accuracy_fn(y_train, y_train_pred) * X_train.size(0)\n",
    "\n",
    "            optimizer.zero_grad()\n",
    "            \n",
    "            loss.backward()\n",
    "            \n",
    "            optimizer.step()\n",
    "\n",
    "        model.eval()\n",
    "\n",
    "        with torch.inference_mode():\n",
    "            model.eval()\n",
    "            for bt , (X_test, y_test) in enumerate(test_loader):\n",
    "\n",
    "                y_test_logit = model(X_test)\n",
    "                y_test_pred = torch.round(y_test_logit)\n",
    "\n",
    "                loss_test = loss_fn(y_test_logit, y_test.long())\n",
    "                total_loss_test += loss_test.item() * X_test.size(0)\n",
    "                total_acc_test += accuracy_fn(y_test, y_test_pred) * X_test.size(0)\n",
    "\n",
    "        avg_loss_train = total_loss_train / len(train_loader.dataset)\n",
    "        avg_loss_test = total_loss_test / len(test_loader.dataset)\n",
    "        avg_acc_train = total_acc_train / len(train_loader.dataset)\n",
    "        avg_acc_test = total_acc_test / len(test_loader.dataset)\n",
    "\n",
    "        if epoch % (epochs/10) == 0:\n",
    "            print(f\"Epoch {epoch+1} | Train Loss: {avg_loss_train:.4f} | Test Loss: {avg_loss_test:.4f} | Train Acc: {avg_acc_train:.2f} | Test Acc: {avg_acc_test:.2f}\")\n",
    "\n",
    "        info = {\n",
    "            \"batch_size\": batch_size,\n",
    "            \"learning_rate\": lr\n",
    "        }\n",
    "        self.bestModel(avg_loss_train, avg_loss_test, model, epoch, info)\n",
    "\n",
    "    return {\n",
    "        \"avg_loss_train\": avg_loss_train,\n",
    "        \"avg_loss_test\": avg_loss_test,\n",
    "        \"model\": model,\n",
    "        \"epoch\": epoch\n",
    "    }"
   ]
  },
  {
   "cell_type": "code",
   "execution_count": 24,
   "id": "f5392cb3",
   "metadata": {},
   "outputs": [
    {
     "name": "stdout",
     "output_type": "stream",
     "text": [
      "Hyperparameter Researcher initialized.\n",
      "  batch_size: 16\n",
      "  learning_rate: 0.001\n",
      "  epochs: 50\n",
      "  loss_fn: CrossEntropyLoss()\n",
      "  optimizer: <class 'torch.optim.adam.Adam'>\n"
     ]
    }
   ],
   "source": [
    "argument = {\n",
    "    \"data\": data,\n",
    "    \"model\": model,\n",
    "    \"train_loop\": train_loop,\n",
    "    \"config\": config,\n",
    "    \"grid_search\": True,\n",
    "    \"research_type\": 1\n",
    "}\n",
    "model_researcher = researcher(**argument)"
   ]
  },
  {
   "cell_type": "code",
   "execution_count": 25,
   "id": "c02e6176",
   "metadata": {},
   "outputs": [
    {
     "name": "stdout",
     "output_type": "stream",
     "text": [
      "Starting hyperparameter research... with train type: <bound method researcher.startGridSearchHyperparameter of <research.researcher object at 0x000002296AC68A10>>\n",
      "Training with hyperparameters: <research.obj object at 0x000002296AB68C50>\n",
      "Prepared training data and hyperparameters for training loop.\n",
      "  batch_size: 16\n",
      "  learning_rate: 0.001\n",
      "  epochs: 50\n",
      "  loss_fn: CrossEntropyLoss()\n",
      "  optimizer: <class 'torch.optim.adam.Adam'>\n",
      "Epoch 1 | Train Loss: 1.1839 | Test Loss: 1.1530 | Train Acc: 32.50 | Test Acc: 36.67\n",
      "Epoch 6 | Train Loss: 1.1615 | Test Loss: 1.1313 | Train Acc: 32.50 | Test Acc: 36.67\n",
      "Epoch 11 | Train Loss: 1.1371 | Test Loss: 1.1126 | Train Acc: 32.50 | Test Acc: 36.67\n",
      "Epoch 16 | Train Loss: 1.1170 | Test Loss: 1.0983 | Train Acc: 32.50 | Test Acc: 36.67\n",
      "Epoch 21 | Train Loss: 1.1011 | Test Loss: 1.0868 | Train Acc: 65.00 | Test Acc: 70.00\n",
      "Epoch 26 | Train Loss: 1.0861 | Test Loss: 1.0718 | Train Acc: 61.67 | Test Acc: 66.67\n",
      "Epoch 31 | Train Loss: 1.0676 | Test Loss: 1.0511 | Train Acc: 65.83 | Test Acc: 70.00\n",
      "Epoch 36 | Train Loss: 1.0463 | Test Loss: 1.0290 | Train Acc: 65.83 | Test Acc: 70.00\n",
      "Epoch 41 | Train Loss: 1.0238 | Test Loss: 1.0042 | Train Acc: 65.83 | Test Acc: 70.00\n",
      "Epoch 46 | Train Loss: 1.0015 | Test Loss: 0.9800 | Train Acc: 65.83 | Test Acc: 70.00\n",
      "Training with hyperparameters: <research.obj object at 0x000002296AB68C50>\n",
      "Prepared training data and hyperparameters for training loop.\n",
      "  batch_size: 16\n",
      "  learning_rate: 0.009999999999999998\n",
      "  epochs: 50\n",
      "  loss_fn: CrossEntropyLoss()\n",
      "  optimizer: <class 'torch.optim.adam.Adam'>\n",
      "  bestModel: <bound method researcher.bestModel of <research.researcher object at 0x000002296AC68A10>>\n",
      "  accuracy_fn: <bound method researcher.accuracy_fn of <research.researcher object at 0x000002296AC68A10>>\n",
      "Epoch 1 | Train Loss: 1.1724 | Test Loss: 1.1202 | Train Acc: 32.50 | Test Acc: 36.67\n",
      "Epoch 6 | Train Loss: 1.0025 | Test Loss: 0.9553 | Train Acc: 65.83 | Test Acc: 70.00\n",
      "Epoch 11 | Train Loss: 0.8812 | Test Loss: 0.8524 | Train Acc: 65.83 | Test Acc: 70.00\n",
      "Epoch 16 | Train Loss: 0.8375 | Test Loss: 0.8181 | Train Acc: 65.83 | Test Acc: 70.00\n",
      "Epoch 21 | Train Loss: 0.8105 | Test Loss: 0.7961 | Train Acc: 65.83 | Test Acc: 70.00\n",
      "Epoch 26 | Train Loss: 0.7930 | Test Loss: 0.7781 | Train Acc: 87.50 | Test Acc: 90.00\n",
      "Epoch 31 | Train Loss: 0.7719 | Test Loss: 0.7599 | Train Acc: 84.17 | Test Acc: 86.67\n",
      "Epoch 36 | Train Loss: 0.7570 | Test Loss: 0.7474 | Train Acc: 92.50 | Test Acc: 96.67\n",
      "Epoch 41 | Train Loss: 0.7472 | Test Loss: 0.7355 | Train Acc: 97.50 | Test Acc: 100.00\n",
      "Epoch 46 | Train Loss: 0.7312 | Test Loss: 0.7205 | Train Acc: 95.83 | Test Acc: 96.67\n",
      "Training with hyperparameters: <research.obj object at 0x000002296AB68C50>\n",
      "Prepared training data and hyperparameters for training loop.\n",
      "  batch_size: 32\n",
      "  learning_rate: 0.001\n",
      "  epochs: 50\n",
      "  loss_fn: CrossEntropyLoss()\n",
      "  optimizer: <class 'torch.optim.adam.Adam'>\n",
      "  bestModel: <bound method researcher.bestModel of <research.researcher object at 0x000002296AC68A10>>\n",
      "  accuracy_fn: <bound method researcher.accuracy_fn of <research.researcher object at 0x000002296AC68A10>>\n",
      "Epoch 1 | Train Loss: 1.1843 | Test Loss: 1.1547 | Train Acc: 32.50 | Test Acc: 36.67\n",
      "Epoch 6 | Train Loss: 1.1688 | Test Loss: 1.1394 | Train Acc: 32.50 | Test Acc: 36.67\n",
      "Epoch 11 | Train Loss: 1.1545 | Test Loss: 1.1268 | Train Acc: 32.50 | Test Acc: 36.67\n",
      "Epoch 16 | Train Loss: 1.1398 | Test Loss: 1.1152 | Train Acc: 32.50 | Test Acc: 36.67\n",
      "Epoch 21 | Train Loss: 1.1261 | Test Loss: 1.1051 | Train Acc: 32.50 | Test Acc: 36.67\n",
      "Epoch 26 | Train Loss: 1.1143 | Test Loss: 1.0967 | Train Acc: 33.33 | Test Acc: 36.67\n",
      "Epoch 31 | Train Loss: 1.1044 | Test Loss: 1.0889 | Train Acc: 51.67 | Test Acc: 66.67\n",
      "Epoch 36 | Train Loss: 1.0948 | Test Loss: 1.0805 | Train Acc: 65.83 | Test Acc: 70.00\n",
      "Epoch 41 | Train Loss: 1.0846 | Test Loss: 1.0699 | Train Acc: 65.83 | Test Acc: 70.00\n",
      "Epoch 46 | Train Loss: 1.0740 | Test Loss: 1.0583 | Train Acc: 65.83 | Test Acc: 70.00\n",
      "Training with hyperparameters: <research.obj object at 0x000002296AB68C50>\n",
      "Prepared training data and hyperparameters for training loop.\n",
      "  batch_size: 32\n",
      "  learning_rate: 0.009999999999999998\n",
      "  epochs: 50\n",
      "  loss_fn: CrossEntropyLoss()\n",
      "  optimizer: <class 'torch.optim.adam.Adam'>\n",
      "  bestModel: <bound method researcher.bestModel of <research.researcher object at 0x000002296AC68A10>>\n",
      "  accuracy_fn: <bound method researcher.accuracy_fn of <research.researcher object at 0x000002296AC68A10>>\n",
      "Epoch 1 | Train Loss: 1.1781 | Test Loss: 1.1310 | Train Acc: 32.50 | Test Acc: 36.67\n",
      "Epoch 6 | Train Loss: 1.0784 | Test Loss: 1.0556 | Train Acc: 31.67 | Test Acc: 36.67\n",
      "Epoch 11 | Train Loss: 0.9570 | Test Loss: 0.9192 | Train Acc: 65.83 | Test Acc: 70.00\n",
      "Epoch 16 | Train Loss: 0.8910 | Test Loss: 0.8612 | Train Acc: 65.83 | Test Acc: 70.00\n",
      "Epoch 21 | Train Loss: 0.8550 | Test Loss: 0.8374 | Train Acc: 65.83 | Test Acc: 70.00\n",
      "Epoch 26 | Train Loss: 0.8325 | Test Loss: 0.8176 | Train Acc: 65.83 | Test Acc: 70.00\n",
      "Epoch 31 | Train Loss: 0.8165 | Test Loss: 0.8030 | Train Acc: 65.83 | Test Acc: 70.00\n",
      "Epoch 36 | Train Loss: 0.8005 | Test Loss: 0.7908 | Train Acc: 71.67 | Test Acc: 83.33\n",
      "Epoch 41 | Train Loss: 0.7872 | Test Loss: 0.7761 | Train Acc: 80.83 | Test Acc: 83.33\n",
      "Epoch 46 | Train Loss: 0.7752 | Test Loss: 0.7648 | Train Acc: 93.33 | Test Acc: 90.00\n"
     ]
    }
   ],
   "source": [
    "model_researcher.startResearch()"
   ]
  },
  {
   "cell_type": "code",
   "execution_count": 26,
   "id": "4aabd490",
   "metadata": {},
   "outputs": [
    {
     "name": "stdout",
     "output_type": "stream",
     "text": [
      "Best Model Info:\n",
      "Epoch: 49\n",
      "Train Loss: 0.7261425813039144\n",
      "Test Loss: 0.7127012292544047\n",
      "Additional Info: {'batch_size': 16, 'learning_rate': 0.009999999999999998}\n"
     ]
    }
   ],
   "source": [
    "model_researcher.print_info()"
   ]
  }
 ],
 "metadata": {
  "kernelspec": {
   "display_name": "Python 3",
   "language": "python",
   "name": "python3"
  },
  "language_info": {
   "codemirror_mode": {
    "name": "ipython",
    "version": 3
   },
   "file_extension": ".py",
   "mimetype": "text/x-python",
   "name": "python",
   "nbconvert_exporter": "python",
   "pygments_lexer": "ipython3",
   "version": "3.11.5"
  }
 },
 "nbformat": 4,
 "nbformat_minor": 5
}
