{
 "cells": [
  {
   "cell_type": "code",
   "execution_count": 1,
   "id": "0dcadfca",
   "metadata": {},
   "outputs": [],
   "source": [
    "from research import researcher"
   ]
  },
  {
   "cell_type": "code",
   "execution_count": 2,
   "id": "69d74df9",
   "metadata": {},
   "outputs": [],
   "source": [
    "from sklearn.datasets import load_iris\n",
    "from sklearn.model_selection import train_test_split\n",
    "import numpy as np\n",
    "from torch import nn\n",
    "import torch\n"
   ]
  },
  {
   "cell_type": "code",
   "execution_count": 3,
   "id": "e8cca59d",
   "metadata": {},
   "outputs": [],
   "source": [
    "data = load_iris()"
   ]
  },
  {
   "cell_type": "code",
   "execution_count": 4,
   "id": "ceb2458d",
   "metadata": {},
   "outputs": [
    {
     "data": {
      "text/plain": [
       "dict_keys(['data', 'target', 'frame', 'target_names', 'DESCR', 'feature_names', 'filename', 'data_module'])"
      ]
     },
     "execution_count": 4,
     "metadata": {},
     "output_type": "execute_result"
    }
   ],
   "source": [
    "data.keys()"
   ]
  },
  {
   "cell_type": "code",
   "execution_count": 5,
   "id": "aaf690ac",
   "metadata": {},
   "outputs": [
    {
     "data": {
      "text/plain": [
       "(['sepal length (cm)',\n",
       "  'sepal width (cm)',\n",
       "  'petal length (cm)',\n",
       "  'petal width (cm)'],\n",
       " array(['setosa', 'versicolor', 'virginica'], dtype='<U10'))"
      ]
     },
     "execution_count": 5,
     "metadata": {},
     "output_type": "execute_result"
    }
   ],
   "source": [
    "data['feature_names'] , data['target_names']"
   ]
  },
  {
   "cell_type": "code",
   "execution_count": 6,
   "id": "6ca05719",
   "metadata": {},
   "outputs": [],
   "source": [
    "X_train, X_test, y_train, y_test = train_test_split(data.data, data.target, test_size=0.2, random_state=42)\n",
    "\n",
    "X_train = np.array(X_train)\n",
    "X_test = np.array(X_test)\n",
    "y_train = np.array(y_train)\n",
    "y_test = np.array(y_test)\n",
    "\n",
    "data = {\n",
    "    \"X_train\": X_train,\n",
    "    \"X_test\": X_test,\n",
    "    \"y_train\": y_train,\n",
    "    \"y_test\": y_test\n",
    "}"
   ]
  },
  {
   "cell_type": "code",
   "execution_count": 7,
   "id": "651181be",
   "metadata": {},
   "outputs": [],
   "source": [
    "import torch\n",
    "import torch.nn as nn\n",
    "\n",
    "class regression_model(nn.Module):\n",
    "    def __init__(self, input_size, output_size):\n",
    "        \"\"\"\n",
    "        input_size: number of input features\n",
    "        output_size: number of classes\n",
    "        hidden_size: number of neurons in hidden layers\n",
    "        num_hidden_layers: number of hidden layers\n",
    "        dropout: dropout probability\n",
    "        \"\"\"\n",
    "        super().__init__()\n",
    "\n",
    "        layers = []  # flatten input\n",
    "\n",
    "        # 1 layer\n",
    "        layers.append(nn.Linear(input_size, output_size))\n",
    "        layers.append(nn.Softmax(dim=1))\n",
    "\n",
    "        # Combine all layers into a sequential module\n",
    "        self.model = nn.Sequential(*layers)\n",
    "\n",
    "    def forward(self, x):\n",
    "        return self.model(x)\n",
    "\n"
   ]
  },
  {
   "cell_type": "code",
   "execution_count": 8,
   "id": "34e750a1",
   "metadata": {},
   "outputs": [],
   "source": [
    "model = regression_model(input_size=4, output_size=3)"
   ]
  },
  {
   "cell_type": "code",
   "execution_count": 9,
   "id": "2e146b6e",
   "metadata": {},
   "outputs": [],
   "source": [
    "config = {\n",
    "    \"hyperparameter\": {\n",
    "        \"range\": {\n",
    "            \"batch_size\": [16, 32, 16],\n",
    "            \"learning_rate\": [0.001, 0.01, 0.009],\n",
    "        },\n",
    "        \"choice\": {\n",
    "\n",
    "        },\n",
    "        \"fixed\": {\n",
    "            \"epochs\": 50,\n",
    "            \"loss_fn\": nn.CrossEntropyLoss(),\n",
    "            \"optimizer\": torch.optim.Adam\n",
    "        }\n",
    "    }\n",
    "}"
   ]
  },
  {
   "cell_type": "code",
   "execution_count": null,
   "id": "0a8581f7",
   "metadata": {},
   "outputs": [],
   "source": [
    "def train_loop(self):\n",
    "\n",
    "    model = self.model\n",
    "    loss_fn = self.loss_fn\n",
    "    lr = self.learning_rate\n",
    "    optimizer = self.optimizer(model.parameters(), lr=lr)\n",
    "    epochs = self.epochs\n",
    "    batch_size = self.batch_size\n",
    "    accuracy_fn = self.accuracy_fn\n",
    "    info = None\n",
    "\n",
    "    data = self.data\n",
    "\n",
    "    X_train = torch.tensor(data.X_train, dtype=torch.float32)\n",
    "    y_train = torch.tensor(data.y_train, dtype=torch.float32)\n",
    "    X_test = torch.tensor(data.X_test, dtype=torch.float32)\n",
    "    y_test = torch.tensor(data.y_test, dtype=torch.float32)\n",
    "\n",
    "    total_loss_train = 0\n",
    "    total_loss_test = 0\n",
    "    total_acc_train = 0\n",
    "    total_acc_test = 0\n",
    "\n",
    "    train_dataset = torch.utils.data.TensorDataset(X_train, y_train)\n",
    "    train_loader = torch.utils.data.DataLoader(train_dataset, batch_size=batch_size, shuffle=True)\n",
    "\n",
    "    test_dataset = torch.utils.data.TensorDataset(X_test, y_test)\n",
    "    test_loader = torch.utils.data.DataLoader(test_dataset, batch_size=batch_size, shuffle=False)\n",
    "    for epoch in range(epochs):\n",
    "        model.train()\n",
    "\n",
    "        total_loss_train = 0\n",
    "        total_loss_test = 0\n",
    "        total_acc_train = 0\n",
    "        total_acc_test = 0\n",
    "        \n",
    "        for bt , (X_train, y_train) in enumerate(train_loader):\n",
    "\n",
    "            y_train_logit = model(X_train)\n",
    "            y_train_pred = torch.round(y_train_logit)\n",
    "\n",
    "            loss = loss_fn(y_train_logit, y_train.long())\n",
    "            total_loss_train += loss.item() * X_train.size(0)\n",
    "            total_acc_train += accuracy_fn(y_train, y_train_pred) * X_train.size(0)\n",
    "\n",
    "            optimizer.zero_grad()\n",
    "            \n",
    "            loss.backward()\n",
    "            \n",
    "            optimizer.step()\n",
    "\n",
    "        model.eval()\n",
    "\n",
    "        with torch.inference_mode():\n",
    "            model.eval()\n",
    "            for bt , (X_test, y_test) in enumerate(test_loader):\n",
    "\n",
    "                y_test_logit = model(X_test)\n",
    "                y_test_pred = torch.round(y_test_logit)\n",
    "\n",
    "                loss_test = loss_fn(y_test_logit, y_test.long())\n",
    "                total_loss_test += loss_test.item() * X_test.size(0)\n",
    "                total_acc_test += accuracy_fn(y_test, y_test_pred) * X_test.size(0)\n",
    "\n",
    "        avg_loss_train = total_loss_train / len(train_loader.dataset)\n",
    "        avg_loss_test = total_loss_test / len(test_loader.dataset)\n",
    "        avg_acc_train = total_acc_train / len(train_loader.dataset)\n",
    "        avg_acc_test = total_acc_test / len(test_loader.dataset)\n",
    "\n",
    "        if epoch % (epochs/10) == 0:\n",
    "            print(f\"Epoch {epoch+1} | Train Loss: {avg_loss_train:.4f} | Test Loss: {avg_loss_test:.4f} | Train Acc: {avg_acc_train:.2f} | Test Acc: {avg_acc_test:.2f}\")\n",
    "\n",
    "        info = {\n",
    "            \"batch_size\": batch_size,\n",
    "            \"learning_rate\": lr\n",
    "        }\n",
    "        self.bestModel(avg_loss_train, avg_loss_test, model, epoch, info)\n",
    "\n",
    "    return {\n",
    "        \"avg_loss_train\": avg_loss_train,\n",
    "        \"avg_loss_test\": avg_loss_test,\n",
    "        \"model\": model,\n",
    "        \"epoch\": epoch\n",
    "    }"
   ]
  },
  {
   "cell_type": "code",
   "execution_count": 11,
   "id": "f5392cb3",
   "metadata": {},
   "outputs": [
    {
     "name": "stdout",
     "output_type": "stream",
     "text": [
      "Hyperparameter Researcher initialized.\n",
      "  batch_size: 16\n",
      "  learning_rate: 0.001\n",
      "  epochs: 50\n",
      "  loss_fn: CrossEntropyLoss()\n",
      "  optimizer: <class 'torch.optim.adam.Adam'>\n"
     ]
    }
   ],
   "source": [
    "argument = {\n",
    "    \"data\": data,\n",
    "    \"model\": model,\n",
    "    \"train_loop\": train_loop,\n",
    "    \"config\": config,\n",
    "    \"grid_search\": True,\n",
    "    \"research_type\": 1\n",
    "}\n",
    "model_researcher = researcher(**argument)"
   ]
  },
  {
   "cell_type": "code",
   "execution_count": 12,
   "id": "c02e6176",
   "metadata": {},
   "outputs": [
    {
     "name": "stdout",
     "output_type": "stream",
     "text": [
      "Starting hyperparameter research... with train type: <bound method researcher.startGridSearchHyperparameter of <research.researcher object at 0x0000022965D6DED0>>\n",
      "Training with hyperparameters: <research.obj object at 0x00000229668F0BD0>\n",
      "Prepared training data and hyperparameters for training loop.\n",
      "  batch_size: 16\n",
      "  learning_rate: 0.001\n",
      "  epochs: 50\n",
      "  loss_fn: CrossEntropyLoss()\n",
      "  optimizer: <class 'torch.optim.adam.Adam'>\n",
      "Epoch 1 | Train Loss: 1.1080 | Test Loss: 1.1287 | Train Acc: 34.17 | Test Acc: 30.00\n",
      "Epoch 6 | Train Loss: 1.0875 | Test Loss: 1.1096 | Train Acc: 225.83 | Test Acc: 223.33\n",
      "Epoch 11 | Train Loss: 1.0686 | Test Loss: 1.0919 | Train Acc: 532.50 | Test Acc: 526.67\n",
      "Epoch 16 | Train Loss: 1.0523 | Test Loss: 1.0765 | Train Acc: 870.00 | Test Acc: 843.33\n",
      "Epoch 21 | Train Loss: 1.0381 | Test Loss: 1.0638 | Train Acc: 1207.50 | Test Acc: 1160.00\n",
      "Epoch 26 | Train Loss: 1.0255 | Test Loss: 1.0532 | Train Acc: 1545.00 | Test Acc: 1476.67\n",
      "Epoch 31 | Train Loss: 1.0141 | Test Loss: 1.0427 | Train Acc: 1882.50 | Test Acc: 1793.33\n",
      "Epoch 36 | Train Loss: 1.0037 | Test Loss: 1.0336 | Train Acc: 2220.00 | Test Acc: 2110.00\n",
      "Epoch 41 | Train Loss: 0.9946 | Test Loss: 1.0253 | Train Acc: 2557.50 | Test Acc: 2426.67\n",
      "Epoch 46 | Train Loss: 0.9860 | Test Loss: 1.0183 | Train Acc: 2895.00 | Test Acc: 2743.33\n",
      "Training with hyperparameters: <research.obj object at 0x00000229668F0BD0>\n",
      "Prepared training data and hyperparameters for training loop.\n",
      "  batch_size: 16\n",
      "  learning_rate: 0.009999999999999998\n",
      "  epochs: 50\n",
      "  loss_fn: CrossEntropyLoss()\n",
      "  optimizer: <class 'torch.optim.adam.Adam'>\n",
      "  bestModel: <bound method researcher.bestModel of <research.researcher object at 0x0000022965D6DED0>>\n",
      "  accuracy_fn: <bound method researcher.accuracy_fn of <research.researcher object at 0x0000022965D6DED0>>\n",
      "Epoch 1 | Train Loss: 1.1039 | Test Loss: 1.1009 | Train Acc: 36.67 | Test Acc: 60.00\n",
      "Epoch 6 | Train Loss: 0.9774 | Test Loss: 1.0034 | Train Acc: 373.33 | Test Acc: 376.67\n",
      "Epoch 11 | Train Loss: 0.9298 | Test Loss: 0.9641 | Train Acc: 710.83 | Test Acc: 693.33\n",
      "Epoch 16 | Train Loss: 0.9097 | Test Loss: 0.9474 | Train Acc: 1048.33 | Test Acc: 1010.00\n",
      "Epoch 21 | Train Loss: 0.8996 | Test Loss: 0.9388 | Train Acc: 1385.83 | Test Acc: 1326.67\n",
      "Epoch 26 | Train Loss: 0.8937 | Test Loss: 0.9335 | Train Acc: 1723.33 | Test Acc: 1643.33\n",
      "Epoch 31 | Train Loss: 0.8900 | Test Loss: 0.9303 | Train Acc: 2060.83 | Test Acc: 1960.00\n",
      "Epoch 36 | Train Loss: 0.8875 | Test Loss: 0.9279 | Train Acc: 2398.33 | Test Acc: 2276.67\n",
      "Epoch 41 | Train Loss: 0.8857 | Test Loss: 0.9263 | Train Acc: 2735.83 | Test Acc: 2593.33\n",
      "Epoch 46 | Train Loss: 0.8843 | Test Loss: 0.9250 | Train Acc: 3073.33 | Test Acc: 2910.00\n",
      "Training with hyperparameters: <research.obj object at 0x00000229668F0BD0>\n",
      "Prepared training data and hyperparameters for training loop.\n",
      "  batch_size: 32\n",
      "  learning_rate: 0.001\n",
      "  epochs: 50\n",
      "  loss_fn: CrossEntropyLoss()\n",
      "  optimizer: <class 'torch.optim.adam.Adam'>\n",
      "  bestModel: <bound method researcher.bestModel of <research.researcher object at 0x0000022965D6DED0>>\n",
      "  accuracy_fn: <bound method researcher.accuracy_fn of <research.researcher object at 0x0000022965D6DED0>>\n",
      "Epoch 1 | Train Loss: 1.1075 | Test Loss: 1.1302 | Train Acc: 34.17 | Test Acc: 30.00\n",
      "Epoch 6 | Train Loss: 1.0951 | Test Loss: 1.1178 | Train Acc: 209.17 | Test Acc: 190.00\n",
      "Epoch 11 | Train Loss: 1.0838 | Test Loss: 1.1069 | Train Acc: 442.50 | Test Acc: 426.67\n",
      "Epoch 16 | Train Loss: 1.0734 | Test Loss: 1.0964 | Train Acc: 755.00 | Test Acc: 736.67\n",
      "Epoch 21 | Train Loss: 1.0631 | Test Loss: 1.0871 | Train Acc: 1090.00 | Test Acc: 1053.33\n",
      "Epoch 26 | Train Loss: 1.0538 | Test Loss: 1.0786 | Train Acc: 1427.50 | Test Acc: 1370.00\n",
      "Epoch 31 | Train Loss: 1.0450 | Test Loss: 1.0705 | Train Acc: 1765.00 | Test Acc: 1686.67\n",
      "Epoch 36 | Train Loss: 1.0365 | Test Loss: 1.0631 | Train Acc: 2102.50 | Test Acc: 2003.33\n",
      "Epoch 41 | Train Loss: 1.0290 | Test Loss: 1.0560 | Train Acc: 2440.00 | Test Acc: 2320.00\n",
      "Epoch 46 | Train Loss: 1.0219 | Test Loss: 1.0500 | Train Acc: 2777.50 | Test Acc: 2636.67\n",
      "Training with hyperparameters: <research.obj object at 0x00000229668F0BD0>\n",
      "Prepared training data and hyperparameters for training loop.\n",
      "  batch_size: 32\n",
      "  learning_rate: 0.009999999999999998\n",
      "  epochs: 50\n",
      "  loss_fn: CrossEntropyLoss()\n",
      "  optimizer: <class 'torch.optim.adam.Adam'>\n",
      "  bestModel: <bound method researcher.bestModel of <research.researcher object at 0x0000022965D6DED0>>\n",
      "  accuracy_fn: <bound method researcher.accuracy_fn of <research.researcher object at 0x0000022965D6DED0>>\n",
      "Epoch 1 | Train Loss: 1.1018 | Test Loss: 1.1093 | Train Acc: 34.17 | Test Acc: 46.67\n",
      "Epoch 6 | Train Loss: 1.0150 | Test Loss: 1.0394 | Train Acc: 364.17 | Test Acc: 363.33\n",
      "Epoch 11 | Train Loss: 0.9657 | Test Loss: 0.9964 | Train Acc: 701.67 | Test Acc: 680.00\n",
      "Epoch 16 | Train Loss: 0.9374 | Test Loss: 0.9717 | Train Acc: 1039.17 | Test Acc: 996.67\n",
      "Epoch 21 | Train Loss: 0.9205 | Test Loss: 0.9579 | Train Acc: 1376.67 | Test Acc: 1313.33\n",
      "Epoch 26 | Train Loss: 0.9101 | Test Loss: 0.9485 | Train Acc: 1714.17 | Test Acc: 1630.00\n",
      "Epoch 31 | Train Loss: 0.9034 | Test Loss: 0.9424 | Train Acc: 2051.67 | Test Acc: 1946.67\n",
      "Epoch 36 | Train Loss: 0.8986 | Test Loss: 0.9382 | Train Acc: 2389.17 | Test Acc: 2263.33\n",
      "Epoch 41 | Train Loss: 0.8950 | Test Loss: 0.9350 | Train Acc: 2726.67 | Test Acc: 2580.00\n",
      "Epoch 46 | Train Loss: 0.8924 | Test Loss: 0.9326 | Train Acc: 3064.17 | Test Acc: 2896.67\n"
     ]
    }
   ],
   "source": [
    "model_researcher.startResearch()"
   ]
  },
  {
   "cell_type": "code",
   "execution_count": 13,
   "id": "4aabd490",
   "metadata": {},
   "outputs": [
    {
     "name": "stdout",
     "output_type": "stream",
     "text": [
      "Best Model Info:\n",
      "Epoch: 49\n",
      "Train Loss: 0.8834194302558899\n",
      "Test Loss: 0.9243200381596883\n",
      "Additional Info: {'batch_size': 16, 'learning_rate': 0.009999999999999998}\n"
     ]
    }
   ],
   "source": [
    "model_researcher.print_info()"
   ]
  }
 ],
 "metadata": {
  "kernelspec": {
   "display_name": "Python 3",
   "language": "python",
   "name": "python3"
  },
  "language_info": {
   "codemirror_mode": {
    "name": "ipython",
    "version": 3
   },
   "file_extension": ".py",
   "mimetype": "text/x-python",
   "name": "python",
   "nbconvert_exporter": "python",
   "pygments_lexer": "ipython3",
   "version": "3.11.5"
  }
 },
 "nbformat": 4,
 "nbformat_minor": 5
}
